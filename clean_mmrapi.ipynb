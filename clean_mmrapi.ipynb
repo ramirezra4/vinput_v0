{
 "cells": [
  {
   "cell_type": "code",
   "execution_count": 32,
   "metadata": {},
   "outputs": [
    {
     "name": "stdout",
     "output_type": "stream",
     "text": [
      "http://cloud.jdpower.ai/data-api/valuationservices/valuation/vehiclesByVin?period=0&vin=1FTFW1ED9MFB21834\n"
     ]
    },
    {
     "data": {
      "text/plain": [
       "{'Crew Cab XLT 4WD 3.5L V6 Turbo Hybrid': '202140753',\n",
       " 'Crew Cab King Ranch 4WD 3.5L V6 Turbo Hybrid': '202140743',\n",
       " 'Crew Cab Lariat 4WD 3.5L V6 Turbo Hybrid': '202140745',\n",
       " 'Crew Cab Limited 4WD 3.5L V6 Turbo Hybrid': '202140747',\n",
       " 'Crew Cab Platinum 4WD 3.5L V6 Turbo Hybrid': '202140749',\n",
       " 'Crew Cab XL 4WD 3.5L V6 Turbo Hybrid': '202140751'}"
      ]
     },
     "execution_count": 32,
     "metadata": {},
     "output_type": "execute_result"
    }
   ],
   "source": [
    "from MMRcall import MMRapi\n",
    "import pandas as pd\n",
    "from pandas import concat\n",
    "\n",
    "test = MMRapi('1FTFW1ED9MFB21834')\n",
    "data = test.match()['result']\n",
    "\n",
    "d_map = {}\n",
    "\n",
    "for model in data:\n",
    "    d_map.update({model['body']: model['ucgvehicleid']})\n",
    "\n",
    "d_map"
   ]
  },
  {
   "cell_type": "code",
   "execution_count": 41,
   "metadata": {},
   "outputs": [
    {
     "name": "stdout",
     "output_type": "stream",
     "text": [
      "                 VIN  Term: Month36\n",
      "0  1FTFW1ED9MFB21834          37700\n"
     ]
    }
   ],
   "source": [
    "from Platter import Platter as pl\n",
    "test_platter = pl('1FTFW1ED9MFB21834')\n",
    "test_platter.hit_cula()"
   ]
  }
 ],
 "metadata": {
  "kernelspec": {
   "display_name": "Python 3.9.12 ('base')",
   "language": "python",
   "name": "python3"
  },
  "language_info": {
   "codemirror_mode": {
    "name": "ipython",
    "version": 3
   },
   "file_extension": ".py",
   "mimetype": "text/x-python",
   "name": "python",
   "nbconvert_exporter": "python",
   "pygments_lexer": "ipython3",
   "version": "3.9.12"
  },
  "orig_nbformat": 4,
  "vscode": {
   "interpreter": {
    "hash": "be19c58f836831b1775294ad34270060714054dda8acd471c4ec22fc7ad35748"
   }
  }
 },
 "nbformat": 4,
 "nbformat_minor": 2
}
