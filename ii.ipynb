{
 "cells": [
  {
   "cell_type": "code",
   "execution_count": 58,
   "metadata": {},
   "outputs": [
    {
     "data": {
      "text/plain": [
       "75"
      ]
     },
     "execution_count": 58,
     "metadata": {},
     "output_type": "execute_result"
    }
   ],
   "source": [
    "import pandas as pd\n",
    "from fuzzywuzzy import fuzz\n",
    "\n",
    "dict = {\n",
    "    'a': ['Prange', 'Apples are bad', 'Apples Good'],\n",
    "    'b': ['Apples bad', 'Not bad', 'Ver bad'],\n",
    "    'c': ['Apples are good', 'Oye', 'Beya']\n",
    "}\n",
    "\n",
    "df = pd.DataFrame(dict)\n",
    "\n",
    "df['Fuzzy'] = df['a']\n",
    "for i in range(df['Fuzzy'].size):\n",
    "    df['Fuzzy'][i] = fuzz.partial_ratio(df['Fuzzy'][i], \"good\")\n",
    "\n",
    "df.Fuzzy.max()"
   ]
  }
 ],
 "metadata": {
  "kernelspec": {
   "display_name": "Python 3.9.12 ('base')",
   "language": "python",
   "name": "python3"
  },
  "language_info": {
   "codemirror_mode": {
    "name": "ipython",
    "version": 3
   },
   "file_extension": ".py",
   "mimetype": "text/x-python",
   "name": "python",
   "nbconvert_exporter": "python",
   "pygments_lexer": "ipython3",
   "version": "3.9.12"
  },
  "orig_nbformat": 4,
  "vscode": {
   "interpreter": {
    "hash": "be19c58f836831b1775294ad34270060714054dda8acd471c4ec22fc7ad35748"
   }
  }
 },
 "nbformat": 4,
 "nbformat_minor": 2
}
